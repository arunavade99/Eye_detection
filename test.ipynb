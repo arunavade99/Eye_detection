{
 "cells": [
  {
   "cell_type": "code",
   "execution_count": 1,
   "id": "ed41226d",
   "metadata": {},
   "outputs": [],
   "source": [
    "import cv2\n",
    "import mediapipe as mp\n",
    "import numpy as np\n",
    "\n",
    "cap = cv2.VideoCapture(0)\n",
    "face_mesh = mp.solutions.face_mesh.FaceMesh(refine_landmarks=True)\n",
    "\n",
    "while True:\n",
    "    ret, frame = cap.read()\n",
    "    frame = cv2.flip(frame, 1)\n",
    "    rgb_frame = cv2.cvtColor(frame, cv2.COLOR_BGR2RGB)\n",
    "    output = face_mesh.process(rgb_frame)\n",
    "    landmark_points = output.multi_face_landmarks #landmarks of face\n",
    "    frame_h, frame_w, _ = frame.shape\n",
    "    if landmark_points:\n",
    "        face_landmarks = landmark_points[0]\n",
    "        # Get outer border points\n",
    "        # Indices for outer border of face (MediaPipe FaceMesh)\n",
    "        outer_face_indices = [10, 338, 297, 332, 284, 251, 389, 356, 454, 323, 361, 288, 397, 365, 379, 378, 400, 377, 152, 148, 176, 149, 150, 136, 172, 58, 132, 93, 234, 127, 162, 21, 54, 103, 67, 109]\n",
    "        points = []\n",
    "        for idx in outer_face_indices:\n",
    "            lm = face_landmarks.landmark[idx]\n",
    "            x = int(lm.x * frame_w)\n",
    "            y = int(lm.y * frame_h)\n",
    "            points.append([x, y])\n",
    "        points = np.array(points, dtype=np.int32)\n",
    "        # Draw polygon around face\n",
    "        cv2.polylines(frame, [points], isClosed=True, color=(0,255,0), thickness=2)\n",
    "    \n",
    "    cv2.imshow('test', frame)\n",
    "    if cv2.waitKey(10) & 0xFF == ord('q'):\n",
    "        break"
   ]
  },
  {
   "cell_type": "code",
   "execution_count": null,
   "id": "3de13cfd",
   "metadata": {},
   "outputs": [],
   "source": [
    "import cv2\n",
    "import mediapipe as mp\n",
    "import numpy as np\n",
    "\n",
    "cap = cv2.VideoCapture(0)\n",
    "face_mesh = mp.solutions.face_mesh.FaceMesh(refine_landmarks=True)\n",
    "\n",
    "while True:\n",
    "    ret, frame = cap.read()\n",
    "    frame = cv2.flip(frame, 1)\n",
    "    rgb_frame = cv2.cvtColor(frame, cv2.COLOR_BGR2RGB)\n",
    "    output = face_mesh.process(rgb_frame)\n",
    "    landmark_points = output.multi_face_landmarks #landmarks of face\n",
    "    frame_h, frame_w, _ = frame.shape\n",
    "    if landmark_points:\n",
    "        # Draw a simple bounding box over the detected face\n",
    "        face_landmarks = landmark_points[0]\n",
    "        xs = [lm.x for lm in face_landmarks.landmark]\n",
    "        ys = [lm.y for lm in face_landmarks.landmark]\n",
    "        min_x = int(min(xs) * frame_w)\n",
    "        max_x = int(max(xs) * frame_w)\n",
    "        min_y = int(min(ys) * frame_h)\n",
    "        max_y = int(max(ys) * frame_h)\n",
    "        cv2.rectangle(frame, (min_x, min_y), (max_x, max_y), (0, 255, 0), 2)\n",
    "        \n",
    "    cv2.imshow('test', frame)\n",
    "    if cv2.waitKey(10) & 0xFF == ord('q'):\n",
    "        break"
   ]
  },
  {
   "cell_type": "code",
   "execution_count": null,
   "id": "36ba8493",
   "metadata": {},
   "outputs": [],
   "source": []
  }
 ],
 "metadata": {
  "kernelspec": {
   "display_name": "speede",
   "language": "python",
   "name": "python3"
  },
  "language_info": {
   "codemirror_mode": {
    "name": "ipython",
    "version": 3
   },
   "file_extension": ".py",
   "mimetype": "text/x-python",
   "name": "python",
   "nbconvert_exporter": "python",
   "pygments_lexer": "ipython3",
   "version": "3.10.9"
  }
 },
 "nbformat": 4,
 "nbformat_minor": 5
}
